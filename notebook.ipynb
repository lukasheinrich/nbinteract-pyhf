{
 "cells": [
  {
   "cell_type": "code",
   "execution_count": 1,
   "metadata": {},
   "outputs": [
    {
     "name": "stderr",
     "output_type": "stream",
     "text": [
      "WARNING:root:The following options are not supported by this function and will likely result in undefined behavior: ['bins'].\n"
     ]
    },
    {
     "name": "stdout",
     "output_type": "stream",
     "text": [
      "{'lumi': (0.5, 1.5), 'SigXsecOverSM': (0, 10), 'mc1_weight_var1': (-5.0, 5.0), 'mc1_shape_conv': (-5.0, 5.0), 'mc2_weight_var1': (-5.0, 5.0), 'mc2_shape_conv': (-5.0, 5.0)}\n"
     ]
    },
    {
     "data": {
      "application/vnd.jupyter.widget-view+json": {
       "model_id": "2d02eb6223fa4d74842af887f46f745a",
       "version_major": 2,
       "version_minor": 0
      },
      "text/plain": [
       "VBox(children=(interactive(children=(FloatSlider(value=1.0, description='lumi', max=1.5, min=0.5), IntSlider(v…"
      ]
     },
     "metadata": {},
     "output_type": "display_data"
    }
   ],
   "source": [
    "import pyhf\n",
    "import numpy as np\n",
    "import nbinteract as nbi\n",
    "import nbinteract.plotting as nbip\n",
    "import bqplot as bq\n",
    "import requests\n",
    "\n",
    "wspace = requests.get('https://gist.githubusercontent.com/lukasheinrich/dd680c74daf9655db5b8d44c2b4e229e/raw/13b38786241fe118f344e6af35767b2cfefb7fc7/wspac').json()\n",
    "\n",
    "\n",
    "def read_wspace(wspace):\n",
    "    spec = {\n",
    "        'channels': wspace['channels'],\n",
    "        'parameters': wspace['toplvl']['measurements'][0]['config'].get(\n",
    "            'parameters', []\n",
    "        ),\n",
    "    }\n",
    "    pdf = pyhf.Model(spec, poiname = 'SigXsecOverSM')\n",
    "    data = wspace['data']['channel1']\n",
    "    selector = {k: v['slice'].start for k,v in pdf.config.par_map.items()}\n",
    "    init = pdf.config.suggested_init()\n",
    "    pars = {k: init[v] for k,v in selector.items()}\n",
    "    return pdf, data, selector, pars\n",
    "\n",
    "\n",
    "def plot_lhood(pdf, obs_data, selector = None, **par_settings):\n",
    "    pars = pyhf.tensorlib.astensor(pdf.config.suggested_init())\n",
    "    for k,v in par_settings.items():\n",
    "        pars[selector[k]] = v\n",
    "    mc_counts = get_mc_counts(pdf,pars)\n",
    "    return mc_counts[:,0,:]\n",
    "\n",
    "def get_mc_counts(pdf, pars):\n",
    "    deltas, factors = pdf._modifications(pars)\n",
    "    allsum = pyhf.tensorlib.concatenate(deltas + [pyhf.tensorlib.astensor(pdf.thenom)])\n",
    "    nom_plus_delta = pyhf.tensorlib.sum(allsum,axis=0)\n",
    "    nom_plus_delta = pyhf.tensorlib.reshape(nom_plus_delta,(1,)+pyhf.tensorlib.shape(nom_plus_delta))\n",
    "    allfac = pyhf.tensorlib.concatenate(factors + [nom_plus_delta])\n",
    "    return pyhf.tensorlib.product(allfac,axis=0)\n",
    "\n",
    "pdf, data, selector, pars  = read_wspace(wspace)\n",
    "\n",
    "options = {\n",
    "    'xlim': (-5,55),\n",
    "    'ylim': (0, 1000),\n",
    "    'bins': 20\n",
    "}\n",
    "\n",
    "\n",
    "\n",
    "ranges = {n[0]: tuple(m) for n,m in zip(sorted(reversed(list(pars.items())), key=lambda x:x[1]), pdf.config.suggested_bounds())}\n",
    "\n",
    "def yields(xs,mc2_shape_conv,mc2_weight_var1,mc1_shape_conv,mc1_weight_var1,SigXsecOverSM,lumi):\n",
    "    pars = {'mc2_shape_conv': mc2_shape_conv,\n",
    "            'mc2_weight_var1': mc2_weight_var1,\n",
    "            'mc1_shape_conv': mc1_shape_conv,\n",
    "            'mc1_weight_var1': mc1_weight_var1,\n",
    "            'SigXsecOverSM': SigXsecOverSM,\n",
    "            'lumi': lumi}\n",
    "    return plot_lhood(pdf,data,selector,**pars)\n",
    "\n",
    "  \n",
    "ranges = {k: tuple(pdf.config.par_map[k]['paramset'].suggested_bounds[0]) for k in pars.keys()}\n",
    "\n",
    "\n",
    "counts = plot_lhood(pdf,data,selector)\n",
    "\n",
    "print(ranges)\n",
    "fig = nbi.Figure(options = options)\n",
    "fig.bar(np.arange(len(counts[0])), yields, **ranges)\n",
    "fig.scatter(np.arange(len(counts[0])), data)\n"
   ]
  },
  {
   "cell_type": "code",
   "execution_count": null,
   "metadata": {},
   "outputs": [],
   "source": []
  }
 ],
 "metadata": {
  "kernelspec": {
   "display_name": "Python 3",
   "language": "python",
   "name": "python3"
  },
  "language_info": {
   "codemirror_mode": {
    "name": "ipython",
    "version": 3
   },
   "file_extension": ".py",
   "mimetype": "text/x-python",
   "name": "python",
   "nbconvert_exporter": "python",
   "pygments_lexer": "ipython3",
   "version": "3.6.6"
  }
 },
 "nbformat": 4,
 "nbformat_minor": 2
}
