{
 "cells": [
  {
   "cell_type": "code",
   "execution_count": 4,
   "metadata": {
    "scrolled": false
   },
   "outputs": [
    {
     "name": "stderr",
     "output_type": "stream",
     "text": [
      "WARNING:root:The following options are not supported by this function and will likely result in undefined behavior: ['bins'].\n"
     ]
    },
    {
     "data": {
      "application/vnd.jupyter.widget-view+json": {
       "model_id": "415881e9e32f4aaeb2f07692f73e6645",
       "version_major": 2,
       "version_minor": 0
      },
      "text/plain": [
       "VBox(children=(interactive(children=(Dropdown(description='_', options=(), value=None), FloatSlider(value=1.0,…"
      ]
     },
     "metadata": {},
     "output_type": "display_data"
    }
   ],
   "source": [
    "import requests\n",
    "import pyhfviz\n",
    "\n",
    "wspace = requests.get('https://gist.githubusercontent.com/lukasheinrich/dd680c74daf9655db5b8d44c2b4e229e/raw/13b38786241fe118f344e6af35767b2cfefb7fc7/wspac').json()\n",
    "# wspace = requests.get('https://gist.githubusercontent.com/lukasheinrich/799b79bffbc66d0e0835603a08d570f7/raw/739185a04f7578aec98b8fe15ae894b3cfd4cc84/newwork').json()\n",
    "\n",
    "pyhfviz.viz_likelihood(wspace)"
   ]
  },
  {
   "cell_type": "code",
   "execution_count": null,
   "metadata": {},
   "outputs": [],
   "source": []
  }
 ],
 "metadata": {
  "kernelspec": {
   "display_name": "Python 3",
   "language": "python",
   "name": "python3"
  },
  "language_info": {
   "codemirror_mode": {
    "name": "ipython",
    "version": 3
   },
   "file_extension": ".py",
   "mimetype": "text/x-python",
   "name": "python",
   "nbconvert_exporter": "python",
   "pygments_lexer": "ipython3",
   "version": "3.6.6"
  }
 },
 "nbformat": 4,
 "nbformat_minor": 2
}
